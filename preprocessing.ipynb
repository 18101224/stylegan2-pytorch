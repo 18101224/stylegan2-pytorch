{
 "cells": [
  {
   "cell_type": "code",
   "execution_count": 10,
   "id": "7e12d422",
   "metadata": {},
   "outputs": [],
   "source": [
    "import glob\n",
    "import shutil\n",
    "import os\n",
    "import numpy as np"
   ]
  },
  {
   "cell_type": "code",
   "execution_count": 3,
   "id": "719f6408",
   "metadata": {},
   "outputs": [],
   "source": [
    "#make directory\n",
    "for i in range(8):\n",
    "    os.mkdir('./'+str(i))"
   ]
  },
  {
   "cell_type": "code",
   "execution_count": 15,
   "id": "0405fee6",
   "metadata": {},
   "outputs": [],
   "source": [
    "#remove the labels undesired\n",
    "not_use = './annotations/'\n",
    "labels = glob.glob('./annotations/*_exp.npy')\n",
    "for path in labels:\n",
    "    label = int(np.load(path))\n",
    "    path = path[14:][::-1][8:][::-1]\n",
    "    shutil.copy('./images/'+str(path)+'.jpg','./'+str(label)+'/'+str(path)+'.jpg')"
   ]
  },
  {
   "cell_type": "code",
   "execution_count": 18,
   "id": "57530cd6",
   "metadata": {},
   "outputs": [],
   "source": [
    "#balancing\n",
    "destination = './balanced/'\n",
    "paths = []\n",
    "for i in range(8):\n",
    "    path = glob.glob('./'+str(i)+'/*')[:3500]\n",
    "    paths.append(path)\n",
    "for path in paths:\n",
    "    for image in path:\n",
    "        shutil.copy(image,destination+image[4:][:-3]+'.jpg')"
   ]
  },
  {
   "cell_type": "code",
   "execution_count": 5,
   "id": "c5f68064",
   "metadata": {},
   "outputs": [],
   "source": [
    "!cd annotations/"
   ]
  },
  {
   "cell_type": "code",
   "execution_count": 6,
   "id": "fa8f3de5",
   "metadata": {},
   "outputs": [
    {
     "name": "stdout",
     "output_type": "stream",
     "text": [
      "0  1  2  3  4  5  6  7\tUntitled.ipynb\tannotations  images\r\n"
     ]
    }
   ],
   "source": [
    "!ls"
   ]
  },
  {
   "cell_type": "code",
   "execution_count": 7,
   "id": "02afa5cc",
   "metadata": {},
   "outputs": [
    {
     "name": "stdout",
     "output_type": "stream",
     "text": [
      "/home/gpuadmin/다운로드/AffectNet/AffectNet_small_version/train_set\r\n"
     ]
    }
   ],
   "source": [
    "!pwd"
   ]
  },
  {
   "cell_type": "code",
   "execution_count": null,
   "id": "1de9dd09",
   "metadata": {},
   "outputs": [],
   "source": []
  }
 ],
 "metadata": {
  "kernelspec": {
   "display_name": "Python 3 (ipykernel)",
   "language": "python",
   "name": "python3"
  },
  "language_info": {
   "codemirror_mode": {
    "name": "ipython",
    "version": 3
   },
   "file_extension": ".py",
   "mimetype": "text/x-python",
   "name": "python",
   "nbconvert_exporter": "python",
   "pygments_lexer": "ipython3",
   "version": "3.9.13"
  }
 },
 "nbformat": 4,
 "nbformat_minor": 5
}
